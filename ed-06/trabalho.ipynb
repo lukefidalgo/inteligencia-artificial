{
  "nbformat": 4,
  "nbformat_minor": 0,
  "metadata": {
    "colab": {
      "provenance": [],
      "collapsed_sections": []
    },
    "kernelspec": {
      "name": "python3",
      "display_name": "Python 3"
    },
    "language_info": {
      "name": "python"
    }
  },
  "cells": [
    {
      "cell_type": "markdown",
      "source": [
        "# Estudo Dirigido 06\n",
        "# Algoritmos de busca local"
      ],
      "metadata": {
        "id": "27HZzCY96_yh"
      }
    },
    {
      "cell_type": "code",
      "source": [
        "from typing import List\n",
        "import numpy as np\n",
        "import random\n",
        "\n",
        "valores = [55, 10, 47, 5, 4, 50, 8, 61, 85, 87]\n",
        "pesos = [95, 4, 60, 32, 23, 72, 80, 62, 65, 46]\n",
        "\n",
        "# Definição do problema\n",
        "# 1. Função objetivo: Retorna o valor total de itens presentes na mochila.\n",
        "def f(mochila: List[int]) -> int:\n",
        "  valor_total = 0\n",
        "  peso_total = 0\n",
        "\n",
        "  for i in range(len(mochila)):\n",
        "    # Se estamos carregando o item na mochila, somar seu peso e valor.\n",
        "    if mochila[i] == 1:\n",
        "      valor_total += valores[i]\n",
        "      peso_total += pesos[i]\n",
        "\n",
        "  # Se ultrapassarmos o limite de peso, retorne valor inválido.\n",
        "  if peso_total > 269:\n",
        "    return -1\n",
        "  else:\n",
        "    return valor_total\n",
        "\n",
        "# 2. Estado inicial: mochila vazia.\n",
        "def get_ei() -> List[int]:\n",
        "  mochila = [0] * 10\n",
        "  return mochila\n",
        "\n",
        "# 3. Ações: Adicionar ou remover um item de dentro da mochila.\n",
        "\n",
        "# 4. Função sucessora: Inverte o estado de um item aleátorio da mochila.\n",
        "#                      0 - Item não está presente na mochila\n",
        "#                      1 - Item está presente na mochila\n",
        "def funcao_sucessora(mochila: List[int]) -> List[int]:\n",
        "  i = random.randint(0, 9)\n",
        "  if mochila[i] == 0:\n",
        "    mochila[i] = 1\n",
        "  else:\n",
        "    mochila[i] = 0\n",
        "  \n",
        "  return mochila\n",
        "\n",
        "# 5. Custo do caminho: Não se aplica.\n"
      ],
      "metadata": {
        "id": "Cq0ER1L3lJ3I"
      },
      "execution_count": null,
      "outputs": []
    },
    {
      "cell_type": "markdown",
      "source": [
        "## Hill climbing"
      ],
      "metadata": {
        "id": "LQw0y0vNnjPu"
      }
    },
    {
      "cell_type": "code",
      "source": [
        "def hill_climbing() -> List[int]:\n",
        "  estado_atual = get_ei()\n",
        "  estado_melhor = estado_atual\n",
        "\n",
        "  i = 0\n",
        "  while True:\n",
        "    vizinhanca = funcao_sucessora(estado_atual)\n",
        "\n",
        "    if f(vizinhanca) >= f(estado_atual) and f(vizinhanca) >= f(estado_melhor):\n",
        "      estado_melhor = vizinhanca\n",
        "\n",
        "    if f(estado_melhor) == 295:\n",
        "      return estado_melhor\n",
        "    else:\n",
        "      estado_atual = estado_melhor\n",
        "\n",
        "    i += 1\n",
        "    print(f'{i:03d} - {estado_melhor} - {f(estado_melhor)}')\n",
        "\n",
        "print(f'* Melhor solucao: {hill_climbing()}')"
      ],
      "metadata": {
        "colab": {
          "base_uri": "https://localhost:8080/"
        },
        "id": "BdOVv9Kt0RQs",
        "outputId": "95858d18-c56f-4ffd-f166-df0ae7256ed4"
      },
      "execution_count": null,
      "outputs": [
        {
          "output_type": "stream",
          "name": "stdout",
          "text": [
            "001 - [0, 0, 1, 0, 0, 0, 0, 0, 0, 0] - 47\n",
            "002 - [0, 0, 1, 0, 0, 0, 0, 0, 0, 1] - 134\n",
            "003 - [0, 0, 1, 0, 0, 0, 0, 0, 0, 0] - 47\n",
            "004 - [0, 1, 1, 0, 0, 0, 0, 0, 0, 0] - 57\n",
            "005 - [0, 1, 1, 0, 0, 0, 0, 0, 0, 1] - 144\n",
            "006 - [0, 1, 1, 0, 0, 0, 0, 1, 0, 1] - 205\n",
            "007 - [1, 1, 1, 0, 0, 0, 0, 1, 0, 1] - 260\n",
            "008 - [1, 1, 1, 0, 0, 0, 0, 1, 0, 0] - 173\n",
            "009 - [1, 1, 1, 1, 0, 0, 0, 1, 0, 0] - 178\n",
            "010 - [1, 1, 1, 1, 0, 0, 0, 1, 1, 0] - -1\n",
            "011 - [0, 1, 1, 1, 0, 0, 0, 1, 1, 0] - 208\n",
            "* Melhor solucao: [0, 1, 1, 1, 0, 0, 0, 1, 1, 1]\n"
          ]
        }
      ]
    },
    {
      "cell_type": "markdown",
      "source": [
        "## Simulated Annealing"
      ],
      "metadata": {
        "id": "bDvqe04G6JDA"
      }
    },
    {
      "cell_type": "code",
      "source": [
        "def simulated_annealing() -> List[int]:\n",
        "  temperatura_inicial = 10000.0\n",
        "  alfa = 0.98\n",
        "  temperatura_atual = temperatura_inicial\n",
        "\n",
        "  estado_atual = get_ei()\n",
        "  estado_melhor = estado_atual\n",
        "\n",
        "  i = 0\n",
        "  while True:\n",
        "    vizinhanca = funcao_sucessora(estado_atual)\n",
        "\n",
        "    if f(vizinhanca) >= f(estado_atual) and f(vizinhanca) >= f(estado_melhor):\n",
        "      estado_melhor = vizinhanca\n",
        "    else:\n",
        "      accept_p = np.exp((f(vizinhanca) - f(estado_atual)) / temperatura_atual)\n",
        "      p = random()\n",
        "      if p < accept_p:\n",
        "        estado_melhor = vizinhanca\n",
        "\n",
        "    if temperatura_atual < 0.00001:\n",
        "      temperatura_atual = 0.00001\n",
        "    else:\n",
        "      temperatura_atual *= alfa\n",
        "\n",
        "    if f(estado_melhor) == 295:\n",
        "      return estado_melhor\n",
        "      \n",
        "    i += 1\n",
        "    print(f'{i:03d} - {estado_melhor} - {f(estado_melhor)}')\n",
        "\n",
        "print(f'* Melhor solucao: {simulated_annealing()}')"
      ],
      "metadata": {
        "colab": {
          "base_uri": "https://localhost:8080/"
        },
        "id": "Q404R6Qt6Mys",
        "outputId": "3b36f54f-6b68-449c-d79a-7603c4e1e370"
      },
      "execution_count": 143,
      "outputs": [
        {
          "output_type": "stream",
          "name": "stdout",
          "text": [
            "001 - [0, 1, 0, 0, 0, 0, 0, 0, 0, 0] - 10\n",
            "002 - [0, 0, 0, 0, 0, 0, 0, 0, 0, 0] - 0\n",
            "003 - [0, 0, 0, 0, 0, 0, 0, 0, 0, 1] - 87\n",
            "004 - [0, 0, 0, 0, 0, 0, 0, 0, 1, 1] - 172\n",
            "005 - [0, 0, 0, 1, 0, 0, 0, 0, 1, 1] - 177\n",
            "006 - [0, 0, 0, 1, 0, 0, 1, 0, 1, 1] - 185\n",
            "007 - [0, 0, 0, 1, 0, 0, 0, 0, 1, 1] - 177\n",
            "008 - [0, 0, 0, 1, 0, 0, 1, 0, 1, 1] - 185\n",
            "009 - [0, 0, 0, 1, 0, 0, 1, 1, 1, 1] - -1\n",
            "010 - [0, 0, 0, 1, 0, 0, 0, 1, 1, 1] - 238\n",
            "011 - [0, 0, 0, 1, 0, 0, 0, 1, 1, 0] - 151\n",
            "012 - [0, 0, 1, 1, 0, 0, 0, 1, 1, 0] - 198\n",
            "013 - [0, 0, 1, 1, 0, 0, 0, 0, 1, 0] - 137\n",
            "014 - [0, 0, 1, 1, 1, 0, 0, 0, 1, 0] - 141\n",
            "015 - [0, 0, 0, 1, 1, 0, 0, 0, 1, 0] - 94\n",
            "016 - [0, 0, 0, 1, 1, 0, 0, 0, 1, 1] - 181\n",
            "017 - [0, 0, 0, 1, 1, 0, 1, 0, 1, 1] - 189\n",
            "018 - [0, 1, 0, 1, 1, 0, 1, 0, 1, 1] - 199\n",
            "019 - [0, 1, 0, 1, 0, 0, 1, 0, 1, 1] - 195\n",
            "020 - [1, 1, 0, 1, 0, 0, 1, 0, 1, 1] - -1\n",
            "021 - [1, 1, 0, 1, 0, 0, 1, 0, 0, 1] - 165\n",
            "022 - [1, 0, 0, 1, 0, 0, 1, 0, 0, 1] - 155\n",
            "023 - [1, 0, 0, 1, 0, 1, 1, 0, 0, 1] - -1\n",
            "024 - [1, 1, 0, 1, 0, 1, 1, 0, 0, 1] - -1\n",
            "025 - [1, 1, 0, 1, 0, 1, 0, 0, 0, 1] - 207\n",
            "026 - [0, 1, 0, 1, 0, 1, 0, 0, 0, 1] - 152\n",
            "027 - [0, 1, 0, 0, 0, 1, 0, 0, 0, 1] - 147\n",
            "028 - [0, 1, 1, 0, 0, 1, 0, 0, 0, 1] - 194\n",
            "029 - [0, 1, 1, 0, 0, 0, 0, 0, 0, 1] - 144\n",
            "030 - [0, 1, 1, 0, 0, 0, 0, 1, 0, 1] - 205\n",
            "031 - [0, 1, 1, 0, 0, 0, 0, 1, 0, 0] - 118\n",
            "032 - [0, 1, 1, 1, 0, 0, 0, 1, 0, 0] - 123\n",
            "033 - [0, 1, 1, 1, 1, 0, 0, 1, 0, 0] - 127\n",
            "034 - [0, 1, 1, 1, 1, 0, 0, 1, 0, 1] - 214\n",
            "035 - [1, 1, 1, 1, 1, 0, 0, 1, 0, 1] - -1\n",
            "036 - [1, 1, 1, 1, 0, 0, 0, 1, 0, 1] - -1\n",
            "037 - [1, 1, 1, 1, 0, 0, 0, 0, 0, 1] - 204\n",
            "038 - [1, 1, 1, 1, 0, 1, 0, 0, 0, 1] - -1\n",
            "039 - [1, 1, 1, 1, 0, 1, 0, 1, 0, 1] - -1\n",
            "040 - [0, 1, 1, 1, 0, 1, 0, 1, 0, 1] - -1\n",
            "041 - [0, 1, 1, 1, 0, 1, 0, 1, 1, 1] - -1\n",
            "* Melhor solucao: [0, 1, 1, 1, 0, 0, 0, 1, 1, 1]\n"
          ]
        }
      ]
    }
  ]
}