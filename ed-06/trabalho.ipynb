{
  "nbformat": 4,
  "nbformat_minor": 0,
  "metadata": {
    "colab": {
      "provenance": [],
      "collapsed_sections": []
    },
    "kernelspec": {
      "name": "python3",
      "display_name": "Python 3"
    },
    "language_info": {
      "name": "python"
    }
  },
  "cells": [
    {
      "cell_type": "markdown",
      "source": [
        "# Estudo Dirigido 06\n",
        "# Algoritmos de busca local"
      ],
      "metadata": {
        "id": "27HZzCY96_yh"
      }
    },
    {
      "cell_type": "code",
      "source": [
        "from typing import List\n",
        "import numpy as np\n",
        "import random\n",
        "\n",
        "valores = [55, 10, 47, 5, 4, 50, 8, 61, 85, 87]\n",
        "pesos = [95, 4, 60, 32, 23, 72, 80, 62, 65, 46]\n",
        "\n",
        "# Definição do problema\n",
        "# 1. Função objetivo: Retorna o valor total de itens presentes na mochila.\n",
        "def f(mochila: List[int]) -> int:\n",
        "  valor_total = 0\n",
        "  peso_total = 0\n",
        "\n",
        "  for i in range(len(mochila)):\n",
        "    # Se estamos carregando o item na mochila, somar seu peso e valor.\n",
        "    if mochila[i] == 1:\n",
        "      valor_total += valores[i]\n",
        "      peso_total += pesos[i]\n",
        "\n",
        "  # Se ultrapassarmos o limite de peso, retorne valor inválido.\n",
        "  if peso_total > 269:\n",
        "    return -1\n",
        "  else:\n",
        "    return valor_total\n",
        "\n",
        "# 2. Estado inicial: mochila vazia.\n",
        "def get_ei() -> List[int]:\n",
        "  mochila = [0] * 10\n",
        "  return mochila\n",
        "\n",
        "# 3. Ações: Adicionar ou remover um item de dentro da mochila.\n",
        "\n",
        "# 4. Função sucessora: Inverte o estado de um item aleátorio da mochila.\n",
        "#                      0 - Item não está presente na mochila\n",
        "#                      1 - Item está presente na mochila\n",
        "def funcao_sucessora(mochila: List[int]) -> List[int]:\n",
        "  i = random.randint(0, 9)\n",
        "  if mochila[i] == 0:\n",
        "    mochila[i] = 1\n",
        "  else:\n",
        "    mochila[i] = 0\n",
        "  \n",
        "  return mochila\n",
        "\n",
        "# 5. Custo do caminho: Não se aplica.\n"
      ],
      "metadata": {
        "id": "Cq0ER1L3lJ3I"
      },
      "execution_count": 75,
      "outputs": []
    },
    {
      "cell_type": "markdown",
      "source": [
        "## Hill climbing"
      ],
      "metadata": {
        "id": "LQw0y0vNnjPu"
      }
    },
    {
      "cell_type": "code",
      "source": [
        "def hill_climbing() -> List[int]:\n",
        "  estado_atual = get_ei()\n",
        "  estado_melhor = estado_atual\n",
        "\n",
        "  i = 0\n",
        "  while True:\n",
        "    vizinhanca = funcao_sucessora(estado_atual)\n",
        "\n",
        "    if f(vizinhanca) >= f(estado_atual) and f(vizinhanca) >= f(estado_melhor):\n",
        "      estado_melhor = vizinhanca\n",
        "\n",
        "    if f(estado_melhor) == 295:\n",
        "      return estado_melhor\n",
        "    else:\n",
        "      estado_atual = estado_melhor\n",
        "\n",
        "    i += 1\n",
        "    print(f'{i:03d} - {estado_melhor} - {f(estado_melhor)}')\n",
        "\n",
        "print(f'* Melhor solucao: {hill_climbing()}')"
      ],
      "metadata": {
        "colab": {
          "base_uri": "https://localhost:8080/"
        },
        "id": "BdOVv9Kt0RQs",
        "outputId": "95858d18-c56f-4ffd-f166-df0ae7256ed4"
      },
      "execution_count": 74,
      "outputs": [
        {
          "output_type": "stream",
          "name": "stdout",
          "text": [
            "001 - [0, 0, 1, 0, 0, 0, 0, 0, 0, 0] - 47\n",
            "002 - [0, 0, 1, 0, 0, 0, 0, 0, 0, 1] - 134\n",
            "003 - [0, 0, 1, 0, 0, 0, 0, 0, 0, 0] - 47\n",
            "004 - [0, 1, 1, 0, 0, 0, 0, 0, 0, 0] - 57\n",
            "005 - [0, 1, 1, 0, 0, 0, 0, 0, 0, 1] - 144\n",
            "006 - [0, 1, 1, 0, 0, 0, 0, 1, 0, 1] - 205\n",
            "007 - [1, 1, 1, 0, 0, 0, 0, 1, 0, 1] - 260\n",
            "008 - [1, 1, 1, 0, 0, 0, 0, 1, 0, 0] - 173\n",
            "009 - [1, 1, 1, 1, 0, 0, 0, 1, 0, 0] - 178\n",
            "010 - [1, 1, 1, 1, 0, 0, 0, 1, 1, 0] - -1\n",
            "011 - [0, 1, 1, 1, 0, 0, 0, 1, 1, 0] - 208\n",
            "* Melhor solucao: [0, 1, 1, 1, 0, 0, 0, 1, 1, 1]\n"
          ]
        }
      ]
    },
    {
      "cell_type": "markdown",
      "source": [
        "## Simulated Annealing"
      ],
      "metadata": {
        "id": "bDvqe04G6JDA"
      }
    },
    {
      "cell_type": "code",
      "source": [
        "def simulated_annealing() -> List[int]:\n",
        "  temperatura_inicial = 10000.0\n",
        "  alfa = 0.98\n",
        "  temperatura_atual = temperatura_inicial\n",
        "\n",
        "  estado_atual = get_ei()\n",
        "  estado_melhor = estado_atual\n",
        "\n",
        "  i = 0\n",
        "  while True:\n",
        "    vizinhanca = funcao_sucessora(estado_atual)\n",
        "\n",
        "    if f(vizinhanca) >= f(estado_atual) and f(vizinhanca) >= f(estado_melhor):\n",
        "      estado_melhor = vizinhanca\n",
        "    else:\n",
        "      accept_p = np.exp((f(vizinhanca) - f(estado_atual)) / temperatura_atual)\n",
        "      p = random()\n",
        "      if p < accept_p:\n",
        "        estado_atual = vizinhanca\n",
        "\n",
        "    if temperatura_atual < 0.00001:\n",
        "      temperatura_atual = 0.00001\n",
        "    else:\n",
        "      temperatura_atual *= alfa\n",
        "\n",
        "    if f(estado_melhor) == 295:\n",
        "      return estado_melhor\n",
        "      \n",
        "    i += 1\n",
        "    print(f'{i:03d} - {estado_melhor} - {f(estado_melhor)}')\n",
        "\n",
        "print(f'* Melhor solucao: {simulated_annealing()}')"
      ],
      "metadata": {
        "colab": {
          "base_uri": "https://localhost:8080/"
        },
        "id": "Q404R6Qt6Mys",
        "outputId": "5227a245-ec6b-4ecf-8212-78b5fbee693b"
      },
      "execution_count": 137,
      "outputs": [
        {
          "output_type": "stream",
          "name": "stdout",
          "text": [
            "001 - [0, 0, 0, 0, 1, 0, 0, 0, 0, 0] - 4\n",
            "002 - [0, 0, 0, 0, 1, 0, 1, 0, 0, 0] - 12\n",
            "003 - [0, 0, 0, 0, 1, 1, 1, 0, 0, 0] - 62\n",
            "004 - [0, 1, 0, 0, 1, 1, 1, 0, 0, 0] - 72\n",
            "005 - [0, 1, 0, 0, 0, 1, 1, 0, 0, 0] - 68\n",
            "006 - [0, 1, 0, 0, 0, 1, 1, 0, 0, 1] - 155\n",
            "007 - [1, 1, 0, 0, 0, 1, 1, 0, 0, 1] - -1\n",
            "008 - [1, 1, 0, 0, 1, 1, 1, 0, 0, 1] - -1\n",
            "009 - [1, 0, 0, 0, 1, 1, 1, 0, 0, 1] - -1\n",
            "010 - [1, 0, 0, 1, 1, 1, 1, 0, 0, 1] - -1\n",
            "011 - [1, 0, 0, 1, 0, 1, 1, 0, 0, 1] - -1\n",
            "012 - [1, 0, 0, 1, 0, 0, 1, 0, 0, 1] - 155\n",
            "013 - [1, 0, 0, 1, 1, 0, 1, 0, 0, 1] - -1\n",
            "014 - [1, 0, 0, 0, 1, 0, 1, 0, 0, 1] - 154\n",
            "015 - [1, 0, 0, 0, 1, 0, 1, 0, 0, 0] - 67\n",
            "016 - [0, 0, 0, 0, 1, 0, 1, 0, 0, 0] - 12\n",
            "017 - [0, 0, 0, 0, 0, 0, 1, 0, 0, 0] - 8\n",
            "018 - [0, 0, 0, 0, 0, 1, 1, 0, 0, 0] - 58\n",
            "019 - [0, 1, 0, 0, 0, 1, 1, 0, 0, 0] - 68\n",
            "020 - [1, 1, 0, 0, 0, 1, 1, 0, 0, 0] - 123\n",
            "021 - [1, 1, 0, 0, 0, 1, 1, 0, 1, 0] - -1\n",
            "022 - [1, 1, 0, 0, 0, 1, 1, 0, 0, 0] - 123\n",
            "023 - [1, 0, 0, 0, 0, 1, 1, 0, 0, 0] - 113\n",
            "024 - [1, 0, 0, 0, 1, 1, 1, 0, 0, 0] - -1\n",
            "025 - [1, 0, 0, 0, 1, 1, 1, 0, 1, 0] - -1\n",
            "026 - [1, 0, 0, 0, 0, 1, 1, 0, 1, 0] - -1\n",
            "027 - [1, 0, 0, 0, 0, 0, 1, 0, 1, 0] - 148\n",
            "028 - [1, 0, 1, 0, 0, 0, 1, 0, 1, 0] - -1\n",
            "029 - [0, 0, 1, 0, 0, 0, 1, 0, 1, 0] - 140\n",
            "030 - [0, 0, 1, 0, 0, 0, 1, 0, 1, 1] - 227\n",
            "031 - [0, 0, 1, 0, 0, 1, 1, 0, 1, 1] - -1\n",
            "032 - [0, 0, 1, 0, 1, 1, 1, 0, 1, 1] - -1\n",
            "033 - [0, 0, 1, 0, 1, 1, 1, 0, 0, 1] - -1\n",
            "034 - [0, 0, 1, 1, 1, 1, 1, 0, 0, 1] - -1\n",
            "035 - [0, 0, 1, 1, 1, 1, 1, 0, 0, 0] - 114\n",
            "036 - [0, 1, 1, 1, 1, 1, 1, 0, 0, 0] - -1\n",
            "037 - [0, 1, 1, 1, 1, 1, 1, 0, 0, 1] - -1\n",
            "038 - [0, 1, 1, 1, 1, 1, 1, 0, 0, 0] - -1\n",
            "039 - [1, 1, 1, 1, 1, 1, 1, 0, 0, 0] - -1\n",
            "040 - [1, 1, 0, 1, 1, 1, 1, 0, 0, 0] - -1\n",
            "041 - [1, 1, 0, 1, 1, 0, 1, 0, 0, 0] - 82\n",
            "042 - [1, 1, 0, 1, 1, 0, 1, 0, 1, 0] - -1\n",
            "043 - [0, 1, 0, 1, 1, 0, 1, 0, 1, 0] - 112\n",
            "044 - [0, 1, 0, 1, 1, 0, 1, 0, 1, 1] - 199\n",
            "045 - [0, 1, 0, 1, 0, 0, 1, 0, 1, 1] - 195\n",
            "046 - [0, 1, 0, 1, 0, 1, 1, 0, 1, 1] - -1\n",
            "047 - [0, 1, 1, 1, 0, 1, 1, 0, 1, 1] - -1\n",
            "048 - [0, 1, 1, 1, 0, 1, 1, 1, 1, 1] - -1\n",
            "049 - [0, 1, 1, 1, 0, 1, 0, 1, 1, 1] - -1\n",
            "050 - [0, 1, 1, 0, 0, 1, 0, 1, 1, 1] - -1\n",
            "051 - [0, 1, 1, 1, 0, 1, 0, 1, 1, 1] - -1\n",
            "052 - [0, 1, 1, 1, 0, 1, 0, 0, 1, 1] - -1\n",
            "053 - [0, 1, 1, 1, 0, 0, 0, 0, 1, 1] - 234\n",
            "054 - [0, 1, 1, 1, 0, 1, 0, 0, 1, 1] - -1\n",
            "055 - [0, 1, 1, 1, 0, 0, 0, 0, 1, 1] - 234\n",
            "* Melhor solucao: [0, 1, 1, 1, 0, 0, 0, 1, 1, 1]\n"
          ]
        }
      ]
    }
  ]
}